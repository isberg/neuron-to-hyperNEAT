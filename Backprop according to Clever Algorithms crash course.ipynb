{
 "cells": [
  {
   "cell_type": "code",
   "execution_count": 135,
   "metadata": {},
   "outputs": [],
   "source": [
    "import numpy as np\n",
    "import matplotlib.pyplot as plt\n",
    "np.set_printoptions(precision=5)"
   ]
  },
  {
   "cell_type": "code",
   "execution_count": 286,
   "metadata": {},
   "outputs": [],
   "source": [
    "# Define the problem to solve\n",
    "def problem():\n",
    "    X = np.array([[0, 0, 0], [0, 0, 1], [0, 1, 0], [0, 1, 1], [1, 0, 0], [1, 0, 1], [1, 1, 0], [1, 1, 1]]).T\n",
    "    Y = np.array([[   0,         1,         1,         0,         1,         0,         0,         1    ]])\n",
    "    return X, Y"
   ]
  },
  {
   "cell_type": "code",
   "execution_count": 137,
   "metadata": {},
   "outputs": [],
   "source": [
    "# Initialize weights and biases\n",
    "def initialize_network(nodes_per_layer, scaling = 1):\n",
    "#    W01 = np.random.randn(2, 2) * 0.5  # 2 neurons times 2 inputs\n",
    "#    B01 = np.zeros((2, 1))  # 2 neurons times 1 bias\n",
    "#    W12 = np.random.randn(1, 2) * 0.5  # 1 neuron times 2 inputs\n",
    "#    B12 = np.zeros((1, 1))  # 1 neuron times 1 bias\n",
    "    network = []\n",
    "    for i in range(len(nodes_per_layer)-1):\n",
    "        rows = nodes_per_layer[i+1]\n",
    "        columns = nodes_per_layer[i]\n",
    "        W = np.random.randn(rows, columns) * scaling\n",
    "        B = np.zeros((rows, 1))\n",
    "        layer = W, B\n",
    "        network.append(layer)\n",
    "    return network\n",
    "        "
   ]
  },
  {
   "cell_type": "code",
   "execution_count": 153,
   "metadata": {},
   "outputs": [],
   "source": [
    "def forward(network, inputs, expected_outputs = None):\n",
    "    sigmoid = lambda a : 1 / (1 + np.exp(-a))\n",
    "    A = inputs\n",
    "    cache = [A]\n",
    "    for layer in network:\n",
    "        W, B = layer\n",
    "        Z = W.dot(A) + B\n",
    "        A = sigmoid(Z)\n",
    "        cache.append(A)\n",
    "        \n",
    "    if expected_outputs is np.array:\n",
    "        return cache, A\n",
    "    else:\n",
    "        m = expected_outputs.shape[1] \n",
    "        cost = 1 / m * np.sum((expected_outputs - A) ** 2)\n",
    "        return cache, A, cost"
   ]
  },
  {
   "cell_type": "code",
   "execution_count": 275,
   "metadata": {},
   "outputs": [],
   "source": [
    "def backward(network, cache, Y, learning_rate = 0.1):\n",
    "    sigmoid_mirp = lambda y: y * (1 - y)\n",
    "    m = Y.shape[1]\n",
    "    n = len(network)\n",
    "    i = n - 1\n",
    "    A = cache\n",
    "    der = sigmoid_mirp(A[n])\n",
    "    #print(\"der =\", der)\n",
    "    deltaA2 = (Y - A[n]) * der\n",
    "    #print(\"Y = \", Y)\n",
    "    #print(\"A[\" + str(n) +\"] = \", A[n])\n",
    "    #print(\"deltaA2 = \", deltaA2)\n",
    "    W2, B2 = network[i]\n",
    "    deltaA1 = deltaA2.T.dot(W2).T * sigmoid_mirp(A[i])\n",
    "    #print(\"deltaA1 =\", deltaA1) \n",
    "    \n",
    "    deltaW2 = A[1].dot(deltaA2.T).T\n",
    "    #print(\"deltaW2 =\", deltaW2, \"\\nW2 =\", W2)\n",
    "    assert(deltaW2.shape == W2.shape)\n",
    "    W2 = W2 + deltaW2 * learning_rate\n",
    "    dB2 = 1 / m * np.sum(deltaA2, axis = 1, keepdims = True) * learning_rate\n",
    "    B2 = B2 + dB2\n",
    "    #print(\"W2 =\", W2)\n",
    "    network[i] = W2, B2\n",
    "    \n",
    "    i = i - 1\n",
    "    W1, B1 = network[i]\n",
    "    deltaW1 = A[0].dot(deltaA1.T).T * learning_rate\n",
    "    assert(deltaW1.shape == W1.shape)\n",
    "    W1 = W1 + deltaW1\n",
    "    dB1 = 1 / m * np.sum(deltaA1, axis = 1, keepdims = True) * learning_rate\n",
    "    B1 = B1 + dB1\n",
    "    network[i] = W1, B1\n",
    "    return network  "
   ]
  },
  {
   "cell_type": "code",
   "execution_count": 293,
   "metadata": {},
   "outputs": [
    {
     "name": "stdout",
     "output_type": "stream",
     "text": [
      "0 0.25157214780104253 [[0.45887 0.46009 0.45738 0.4586  0.46216 0.46337 0.46067 0.46189]]\n",
      "10000 0.24999800720030976 [[0.4993  0.50024 0.49897 0.49992 0.50008 0.50101 0.49976 0.50071]]\n",
      "20000 0.24999324872973946 [[0.49936 0.50056 0.49898 0.50017 0.49984 0.501   0.49946 0.50067]]\n",
      "30000 0.2498796184237061 [[0.49738 0.50327 0.49343 0.4992  0.50099 0.50597 0.49701 0.50296]]\n",
      "Found solution after #34092 epochs\n",
      "[[0.38574 0.65369 0.50027 0.35446 0.62154 0.44104 0.3511  0.68066]]\n",
      "[(array([[-0.20788,  0.48421, -0.37528],\n",
      "       [ 0.33628, -0.75158,  0.50673],\n",
      "       [ 0.26009, -0.73585,  0.73219],\n",
      "       [ 0.46782, -0.67049,  0.55579],\n",
      "       [-0.2144 ,  0.06239,  0.02695],\n",
      "       [ 3.18047, -4.31998,  3.10879],\n",
      "       [ 0.25166, -0.85454,  1.00228],\n",
      "       [ 0.11864, -0.29902,  0.09325],\n",
      "       [ 0.56073, -0.51924,  0.72667],\n",
      "       [ 0.2113 , -0.23503,  0.19636],\n",
      "       [-0.19011,  0.26094, -0.37938],\n",
      "       [-1.36323,  1.45747,  0.33599]]), array([[-4.74687e-04],\n",
      "       [ 1.91085e-03],\n",
      "       [-5.23777e-04],\n",
      "       [-1.06302e-03],\n",
      "       [-3.00431e-05],\n",
      "       [-5.85416e-01],\n",
      "       [-4.05368e-03],\n",
      "       [ 2.00083e-04],\n",
      "       [-6.91878e-03],\n",
      "       [ 1.91983e-06],\n",
      "       [ 7.16600e-04],\n",
      "       [-3.15037e-02]])), (array([[ 0.64762, -1.02644, -1.17997, -1.11223,  0.11671,  3.75622,\n",
      "        -1.58157, -0.30327, -1.19162, -0.33684,  0.50523,  1.86902]]), array([[-0.00104]]))]\n",
      "[[0.38574 0.65369 0.50027 0.35446 0.62154 0.44104 0.3511  0.68066]]\n",
      "[[0 1 1 0 1 0 0 1]]\n"
     ]
    },
    {
     "data": {
      "image/png": "[encoded data removed]",
      "text/plain": [
       "<matplotlib.figure.Figure at 0x87d8ef0>"
      ]
     },
     "metadata": {},
     "output_type": "display_data"
    }
   ],
   "source": [
    "X, Y = problem()\n",
    "network = initialize_network([3,12,1], 0.1)\n",
    "cache, Yhat, cost = forward(network, X, Y)\n",
    "assert(Yhat.shape == (1,8))\n",
    "\n",
    "dot = ['r.', 'g.', 'b.', 'y.', 'ro', 'go', 'bo', 'yo']\n",
    "for epoch in range(100000):\n",
    "    #print(epoch)\n",
    "    cache, Yhat, cost = forward(network, X, Y)\n",
    "    assert(Yhat.shape == (1,8))\n",
    "    if ((Yhat>0.5)*1 == Y).all():\n",
    "        print(\"Found solution after #{} epochs\".format(epoch))\n",
    "        print(Yhat)\n",
    "        print(network)\n",
    "        break\n",
    "    if epoch % 100 == 0:\n",
    "        #plt.plot(epoch, cost, 'r.')\n",
    "        if epoch % 10000 == 0:\n",
    "            print(epoch, cost, Yhat)\n",
    "        for i in range(Yhat.shape[1]):\n",
    "            plt.plot(epoch, Yhat[0][i], dot[i])\n",
    "    #print(network)\n",
    "    network = backward(network, cache, Y, learning_rate = 0.1)\n",
    "    #print(network)\n",
    "    \n",
    "print(Yhat)\n",
    "print((Yhat>0.5)*1)\n",
    "plt.show()"
   ]
  },
  {
   "cell_type": "code",
   "execution_count": 280,
   "metadata": {},
   "outputs": [
    {
     "data": {
      "text/plain": [
       "True"
      ]
     },
     "execution_count": 280,
     "metadata": {},
     "output_type": "execute_result"
    }
   ],
   "source": [
    "np.array([True]).all()"
   ]
  },
  {
   "cell_type": "code",
   "execution_count": null,
   "metadata": {},
   "outputs": [],
   "source": []
  }
 ],
 "metadata": {
  "kernelspec": {
   "display_name": "Python 3",
   "language": "python",
   "name": "python3"
  },
  "language_info": {
   "codemirror_mode": {
    "name": "ipython",
    "version": 3
   },
   "file_extension": ".py",
   "mimetype": "text/x-python",
   "name": "python",
   "nbconvert_exporter": "python",
   "pygments_lexer": "ipython3",
   "version": "3.6.4"
  }
 },
 "nbformat": 4,
 "nbformat_minor": 2
}
