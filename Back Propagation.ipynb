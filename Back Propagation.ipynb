{
 "cells": [
  {
   "cell_type": "code",
   "execution_count": 1,
   "metadata": {},
   "outputs": [],
   "source": [
    "import numpy as np\n",
    "import matplotlib.pyplot as plt"
   ]
  },
  {
   "cell_type": "markdown",
   "metadata": {},
   "source": [
    "Backpropagation simple single node with linear one variable function."
   ]
  },
  {
   "cell_type": "code",
   "execution_count": 196,
   "metadata": {
    "collapsed": true
   },
   "outputs": [
    {
     "name": "stdout",
     "output_type": "stream",
     "text": [
      "1 of 20 epochs\n",
      "e = f(x) - y = f(0) - 0.8 = 0 - 0.8 = -0.30000000000000004\n",
      "dy/dx = 0.24999791668749438\n",
      "dx = - learning_rate * e / dydx = - 0.2 * -0.30000000000000004 / 0.24999791668749438 = 0.2400019999966719\n",
      "x = x + dx = 0.0 + 0.2400019999966719 = 0.2400019999966719\n",
      "2 of 20 epochs\n",
      "e = f(x) - y = f(0.2400019999966719) - 0.8 = 0.2400019999966719 - 0.8 = -0.2402858578651259\n",
      "dy/dx = 0.24643225550194936\n",
      "dx = - learning_rate * e / dydx = - 0.2 * -0.2402858578651259 / 0.24643225550194936 = 0.1950116938837377\n",
      "x = x + dx = 0.2400019999966719 + 0.1950116938837377 = 0.4350136938804096\n",
      "3 of 20 epochs\n",
      "e = f(x) - y = f(0.4350136938804096) - 0.8 = 0.4350136938804096 - 0.8 = -0.1929297454405895\n",
      "dy/dx = 0.23853424626082975\n",
      "dx = - learning_rate * e / dydx = - 0.2 * -0.1929297454405895 / 0.23853424626082975 = 0.16176272251459178\n",
      "x = x + dx = 0.43501369388040956 + 0.16176272251459178 = 0.5967764163950013\n",
      "4 of 20 epochs\n",
      "e = f(x) - y = f(0.5967764163950013) - 0.8 = 0.5967764163950013 - 0.8 = -0.155081544708921\n",
      "dy/dx = 0.22899721393036532\n",
      "dx = - learning_rate * e / dydx = - 0.2 * -0.155081544708921 / 0.22899721393036532 = 0.1354440449708519\n",
      "x = x + dx = 0.5967764163950013 + 0.1354440449708519 = 0.7322204613658533\n",
      "5 of 20 epochs\n",
      "e = f(x) - y = f(0.7322204613658533) - 0.8 = 0.7322204613658533 - 0.8 = -0.12470765171286025\n",
      "dy/dx = 0.21927143913170188\n",
      "dx = - learning_rate * e / dydx = - 0.2 * -0.12470765171286025 / 0.21927143913170188 = 0.11374728255234061\n",
      "x = x + dx = 0.7322204613658533 + 0.11374728255234061 = 0.8459677439181938\n",
      "6 of 20 epochs\n",
      "e = f(x) - y = f(0.8459677439181938) - 0.8 = 0.8459677439181938 - 0.8 = -0.10027939874387326\n",
      "dy/dx = 0.21011076860328326\n",
      "dx = - learning_rate * e / dydx = - 0.2 * -0.10027939874387326 / 0.21011076860328326 = 0.0954538402867051\n",
      "x = x + dx = 0.8459677439181938 + 0.0954538402867051 = 0.941421584204899\n",
      "7 of 20 epochs\n",
      "e = f(x) - y = f(0.941421584204899) - 0.8 = 0.941421584204899 - 0.8 = -0.08061327865838475\n",
      "dy/dx = 0.20186875585914144\n",
      "dx = - learning_rate * e / dydx = - 0.2 * -0.08061327865838475 / 0.20186875585914144 = 0.07986701886114018\n",
      "x = x + dx = 0.9414215842048989 + 0.07986701886114018 = 1.021288603066039\n",
      "8 of 20 epochs\n",
      "e = f(x) - y = f(1.021288603066039) - 0.8 = 1.021288603066039 - 0.8 = -0.0647764722896923\n",
      "dy/dx = 0.19466934686828696\n",
      "dx = - learning_rate * e / dydx = - 0.2 * -0.0647764722896923 / 0.19466934686828696 = 0.06655025388616523\n",
      "x = x + dx = 1.021288603066039 + 0.06655025388616523 = 1.0878388569522044\n",
      "9 of 20 epochs\n",
      "e = f(x) - y = f(1.0878388569522044) - 0.8 = 1.0878388569522044 - 0.8 = -0.05202545412903825\n",
      "dy/dx = 0.18850821285419928\n",
      "dx = - learning_rate * e / dydx = - 0.2 * -0.05202545412903825 / 0.18850821285419928 = 0.055197015919170665\n",
      "x = x + dx = 1.0878388569522044 + 0.055197015919170665 = 1.143035872871375\n",
      "10 of 20 epochs\n",
      "e = f(x) - y = f(1.143035872871375) - 0.8 = 1.143035872871375 - 0.8 = -0.04176340720604199\n",
      "dy/dx = 0.18331355696886154\n",
      "dx = - learning_rate * e / dydx = - 0.2 * -0.04176340720604199 / 0.18331355696886154 = 0.045564995733661004\n",
      "x = x + dx = 1.143035872871375 + 0.045564995733661004 = 1.188600868605036\n",
      "11 of 20 epochs\n",
      "e = f(x) - y = f(1.188600868605036) - 0.8 = 1.188600868605036 - 0.8 = -0.03350926269127508\n",
      "dy/dx = 0.17898246648537786\n",
      "dx = - learning_rate * e / dydx = - 0.2 * -0.03350926269127508 / 0.17898246648537786 = 0.03744418472857804\n",
      "x = x + dx = 1.188600868605036 + 0.03744418472857804 = 1.226045053333614\n",
      "12 of 20 epochs\n",
      "e = f(x) - y = f(1.226045053333614) - 0.8 = 1.226045053333614 - 0.8 = -0.026874383423851844\n",
      "dy/dx = 0.17540224433474916\n",
      "dx = - learning_rate * e / dydx = - 0.2 * -0.026874383423851844 / 0.17540224433474916 = 0.030643146586611526\n",
      "x = x + dx = 1.226045053333614 + 0.030643146586611526 = 1.2566881999202255\n",
      "13 of 20 epochs\n",
      "e = f(x) - y = f(1.2566881999202255) - 0.8 = 1.2566881999202255 - 0.8 = -0.02154452695092457\n",
      "dy/dx = 0.1724624495630489\n",
      "dx = - learning_rate * e / dydx = - 0.2 * -0.02154452695092457 / 0.1724624495630489 = 0.024984600422306203\n",
      "x = x + dx = 1.2566881999202255 + 0.024984600422306203 = 1.2816728003425317\n",
      "14 of 20 epochs\n",
      "e = f(x) - y = f(1.2816728003425317) - 0.8 = 1.2816728003425317 - 0.8 = -0.017265610490843075\n",
      "dy/dx = 0.17006120725097107\n",
      "dx = - learning_rate * e / dydx = - 0.2 * -0.017265610490843075 / 0.17006120725097107 = 0.020305172202338916\n",
      "x = x + dx = 1.2816728003425317 + 0.020305172202338916 = 1.3019779725448706\n",
      "15 of 20 epochs\n",
      "e = f(x) - y = f(1.3019779725448706) - 0.8 = 1.3019779725448706 - 0.8 = -0.013832315626200797\n",
      "dy/dx = 0.16810803218008097\n",
      "dx = - learning_rate * e / dydx = - 0.2 * -0.013832315626200797 / 0.16810803218008097 = 0.01645646010701419\n",
      "x = x + dx = 1.3019779725448706 + 0.01645646010701419 = 1.3184344326518849\n",
      "16 of 20 epochs\n",
      "e = f(x) - y = f(1.3184344326518849) - 0.8 = 1.3184344326518849 - 0.8 = -0.01107888101021226\n",
      "dy/dx = 0.1665245893583911\n",
      "dx = - learning_rate * e / dydx = - 0.2 * -0.01107888101021226 / 0.1665245893583911 = 0.013306000096320311\n",
      "x = x + dx = 1.3184344326518849 + 0.013306000096320311 = 1.3317404327482052\n",
      "17 of 20 epochs\n",
      "e = f(x) - y = f(1.3317404327482052) - 0.8 = 1.3317404327482052 - 0.8 = -0.008871622954138236\n",
      "-0.008871622954138236\n",
      "found\n"
     ]
    },
    {
     "data": {
      "image/png": "[encoded data removed]",
      "text/plain": [
       "<matplotlib.figure.Figure at 0x356d4d0>"
      ]
     },
     "metadata": {},
     "output_type": "display_data"
    }
   ],
   "source": [
    "def findX(y, learning_rate = 0.01, max_epochs = 1000, x = np.random.randn(), debug = False, epsilon = 0.001):   \n",
    "    f = lambda x : 1/(1 + np.exp(-x))\n",
    "    \n",
    "    X = np.arange(-3,3, 0.1)\n",
    "\n",
    "    plt.plot(X, f(X))\n",
    "    plt.plot(X, np.ones((X.shape[0]))*y)\n",
    "    plt.plot(x, f(x), 'ro')\n",
    "\n",
    "      \n",
    "\n",
    "    for i in range(max_epochs):\n",
    "        print(\"{} of {} epochs\".format(i+1, max_epochs))\n",
    "        e = f(x) - y\n",
    "        print(\"e = f(x) - y = f({}) - {} = {} - {} = {}\".format(x, y, x, y, e))\n",
    "        if (abs(e) < epsilon):\n",
    "            print(e)\n",
    "            break\n",
    "\n",
    "        dydx = (f(x+epsilon) - f(x-epsilon)) / (2 * epsilon)  \n",
    "        print(\"dy/dx =\", dydx)\n",
    "        dx = - learning_rate * e / dydx\n",
    "        print(\"dx = - learning_rate * e / dydx = - {} * {} / {} = {}\".format(learning_rate, e, dydx, dx))\n",
    "        x += dx\n",
    "        print(\"x = x + dx = {} + {} = {}\".format(x-dx, dx, x))\n",
    "        #print(e, dydx, dx, y, x)\n",
    "        if i % 1 == 0:\n",
    "            #if (debug):\n",
    "                #print(\"e:\", e, \"dx:\", dx, \"x:\", x, \"f(x):\", f(x))\n",
    "            plt.plot(x, f(x), 'bo')\n",
    "\n",
    "    #print(i+1, max_epochs)\n",
    "    if (i+1 < max_epochs):\n",
    "        print(\"found\")\n",
    "        plt.plot(x, f(x), 'go')\n",
    "    else:\n",
    "        print(\"fail\")\n",
    "        plt.plot(x, f(x), 'bo')\n",
    "    plt.show()\n",
    "\n",
    "    \n",
    "findX(0.8, learning_rate = 0.2, max_epochs = 20, x = 0, debug = True, epsilon = 0.01)"
   ]
  },
  {
   "cell_type": "markdown",
   "metadata": {},
   "source": [
    "Artificial Neural Networks often use a sigmoid function as an activation function. The formula and appearance looks like this:"
   ]
  },
  {
   "cell_type": "code",
   "execution_count": 201,
   "metadata": {},
   "outputs": [
    {
     "data": {
      "image/png": "[encoded data removed]",
      "text/plain": [
       "<matplotlib.figure.Figure at 0x36fc590>"
      ]
     },
     "metadata": {},
     "output_type": "display_data"
    }
   ],
   "source": [
    "sigmoid = lambda x : 1 / (1 + np.exp(-x))\n",
    "\n",
    "X = np.arange(-5,5,0.1)\n",
    "plt.plot(X, sigmoid(X))\n",
    "plt.show()"
   ]
  },
  {
   "cell_type": "markdown",
   "metadata": {},
   "source": [
    "Two handy thing with the sigmoid function is that the values are between 0 and 1 (exclusive) and it is easy to calculate the derivative, it can even be done given the output value."
   ]
  },
  {
   "cell_type": "code",
   "execution_count": 214,
   "metadata": {},
   "outputs": [
    {
     "data": {
      "image/png": "[encoded data removed]",
      "text/plain": [
       "<matplotlib.figure.Figure at 0x363cbb0>"
      ]
     },
     "metadata": {},
     "output_type": "display_data"
    }
   ],
   "source": [
    "sigmoid = lambda x : 1 / (1 + np.exp(-x))\n",
    "sigmoid_derivative_y = lambda y: y * (1 - y)\n",
    "sigmoid_derivative_x = lambda x: sigmoid(x) * (1 - sigmoid(x))\n",
    "\n",
    "plt.plot(X, sigmoid_derivative_y(sigmoid(X)), 'ro')\n",
    "plt.plot(X, sigmoid_derivative_x(X), 'gx')\n",
    "plt.show()"
   ]
  },
  {
   "cell_type": "markdown",
   "metadata": {},
   "source": [
    "This means that if we have the input to the sigmoid function we can get the output and also the derivate at that point, but also that if we know the output (actual, or wanted), then we can calculate the the derivate without knowing the matching input. This will proof useful as we will see shortly."
   ]
  },
  {
   "cell_type": "markdown",
   "metadata": {},
   "source": [
    "Lets say we have a neuron with the activation function `f`, where `f` is the `sigmoid` function. `f(z) = 1 / (1 + np.exp(-z))`. We will soon see why I call it z."
   ]
  },
  {
   "cell_type": "code",
   "execution_count": 216,
   "metadata": {},
   "outputs": [
    {
     "data": {
      "image/png": "[encoded data removed]",
      "text/plain": [
       "<matplotlib.figure.Figure at 0x3770f50>"
      ]
     },
     "metadata": {},
     "output_type": "display_data"
    }
   ],
   "source": [
    "sigmoid = lambda z : 1 / (1 + np.exp(-z))\n",
    "plt.plot(X, sigmoid(X))\n",
    "plt.show()"
   ]
  },
  {
   "cell_type": "markdown",
   "metadata": {},
   "source": [
    "So the sigmoid shown above is the activation function of a neuron. If we want to train a network with multiple neuron we need to be able to figure given a specific expected output of a neuron activation function, what input would be suitable.  "
   ]
  },
  {
   "cell_type": "code",
   "execution_count": 256,
   "metadata": {},
   "outputs": [
    {
     "name": "stdout",
     "output_type": "stream",
     "text": [
      "y = 0.9686486493460097\n",
      "z = -1.1639411935414814\n",
      "y is the expected output (because of reasons), and z is the input\n",
      "yhat = f(z) = 0.23795188750749405\n",
      "yhat is the actual output given the current input\n",
      "e = -0.7306967618385156\n",
      "e is the current error, based on actual and expected output\n",
      "dy/dz = 0.18133078673911493\n",
      "We know the derivative, lets use that together with the error to decide how we want the input to change\n",
      "dx = - learning_rate * e / dydx = - 0.5 * -0.7306967618385156 / 0.18133078673911493 = 2.014817160887817\n",
      "z = 0.8508759673463357\n",
      "yhat = 0.7007508643257437\n",
      "We update z, calulate new yhat and mark the position in the graph\n"
     ]
    },
    {
     "data": {
      "image/png": "[encoded data removed]",
      "text/plain": [
       "<matplotlib.figure.Figure at 0x3782810>"
      ]
     },
     "metadata": {},
     "output_type": "display_data"
    }
   ],
   "source": [
    "y = np.random.rand()\n",
    "print(\"y =\", y)\n",
    "\n",
    "z = np.random.randn()\n",
    "print(\"z =\", z)\n",
    "print(\"y is the expected output (because of reasons), and z is the input\")\n",
    "\n",
    "f = sigmoid\n",
    "yhat = f(z)\n",
    "print(\"yhat = f(z) =\", yhat)\n",
    "print(\"yhat is the actual output given the current input\")\n",
    "plt.plot(z, yhat, 'ro')\n",
    "\n",
    "e = yhat - y\n",
    "print(\"e =\", e)\n",
    "print(\"e is the current error, based on actual and expected output\")\n",
    "\n",
    "fprim = lambda y : y * (1 - y)  # The derivative, calculated using the output instead of input\n",
    "dydz = fprim(yhat)\n",
    "print(\"dy/dz =\", dydz)\n",
    "print(\"We know the derivative, lets use that together with the error to decide how we want the input to change\")\n",
    "\n",
    "learning_rate = 0.5\n",
    "dz = - learning_rate * e / dydz\n",
    "print(\"dx = - learning_rate * e / dydx = - {} * {} / {} = {}\".format(learning_rate, e, dydz, dz))\n",
    "\n",
    "z += dz\n",
    "print(\"z =\", z)\n",
    "yhat = f(z)\n",
    "print(\"yhat =\", yhat)\n",
    "print(\"We update z, calulate new yhat and mark the position in the graph\")\n",
    "plt.plot(z, yhat, 'go')\n",
    "\n",
    "\n",
    "plt.plot(X, f(X), 'black')\n",
    "plt.plot(X, np.ones((X.shape[0]))*y, 'g')\n",
    "plt.show()"
   ]
  },
  {
   "cell_type": "markdown",
   "metadata": {},
   "source": [
    "The green line above is the target, the red dot is the starting point, and the green that where we are after first round of compensations. If you run the cell multiple times, you can see that often we get closer to the line, but sometimes we overcompensates, but almost never do we hit the line in our first and only attempt. We will fix that be running multiple steps in a loop."
   ]
  },
  {
   "cell_type": "code",
   "execution_count": 308,
   "metadata": {},
   "outputs": [
    {
     "name": "stdout",
     "output_type": "stream",
     "text": [
      "e = 0.12498086698480881\n",
      "e = 0.06540704618440435\n",
      "e = 0.03385098002515774\n",
      "e = 0.017298636200389655\n",
      "e = 0.008757600002286675\n"
     ]
    },
    {
     "data": {
      "image/png": "[encoded data removed]",
      "text/plain": [
       "<matplotlib.figure.Figure at 0x353adb0>"
      ]
     },
     "metadata": {},
     "output_type": "display_data"
    }
   ],
   "source": [
    "learning_rate = 0.5\n",
    "y, z = np.random.rand(), np.random.randn() * 2\n",
    "f = sigmoid\n",
    "fprim = lambda y : y * (1 - y)\n",
    "yhat = f(z)\n",
    "plt.plot(z, yhat, 'ro')\n",
    "\n",
    "for _ in range(5):\n",
    "    e = yhat - y\n",
    "    print(\"e =\", e)\n",
    "    dydz = fprim(yhat)\n",
    "    dz = - learning_rate * e / dydz\n",
    "    z += dz\n",
    "    yhat = f(z)\n",
    "    plt.plot(z, yhat, 'bo')\n",
    "\n",
    "    \n",
    "plt.plot(z, yhat, 'go')   \n",
    "plt.plot(X, f(X), 'black')\n",
    "plt.plot(X, np.ones((X.shape[0]))*y, 'g')\n",
    "plt.show()"
   ]
  },
  {
   "cell_type": "markdown",
   "metadata": {},
   "source": [
    "The red dot is the starting point, the black the intermediate steps, and the green is where we ended up after the last step we took when improving. It would be good if we could just stop when we where close enough. So either iterate until we reach max iterations, or until we are close enough. Note also that we have a learning rate that decides how big part of our approximate best step we should try to take."
   ]
  },
  {
   "cell_type": "code",
   "execution_count": 335,
   "metadata": {},
   "outputs": [
    {
     "name": "stdout",
     "output_type": "stream",
     "text": [
      "Good enough after 99 epochs!\n",
      "e = 0.0009691349376882985\n"
     ]
    },
    {
     "data": {
      "image/png": "[encoded data removed]",
      "text/plain": [
       "<matplotlib.figure.Figure at 0x9d94dd0>"
      ]
     },
     "metadata": {},
     "output_type": "display_data"
    }
   ],
   "source": [
    "learning_rate, sigma, max_epochs = 0.05, 0.001, 1000\n",
    "y, z = np.random.rand(), np.random.randn() * 2\n",
    "f, fprim = sigmoid, lambda y : y * (1 - y)\n",
    "\n",
    "yhat = f(z)\n",
    "plt.plot(z, yhat, 'ro')\n",
    "\n",
    "for epoch in range(max_epochs):\n",
    "    e = yhat - y\n",
    "    #print(\"e =\", e)\n",
    "    if (abs(e) < sigma):\n",
    "        print(\"Good enough after {} epochs!\".format(epoch))\n",
    "        break\n",
    "    dydz = fprim(yhat)\n",
    "    dz = - learning_rate * e / dydz\n",
    "    z += dz\n",
    "    yhat = f(z)\n",
    "    plt.plot(z, yhat, 'bo')\n",
    "\n",
    "print(\"e =\", e)   \n",
    "plt.plot(z, yhat, 'go')   \n",
    "plt.plot(X, f(X), 'black')\n",
    "plt.plot(X, np.ones((X.shape[0]))*y, 'g')\n",
    "plt.show()"
   ]
  },
  {
   "cell_type": "markdown",
   "metadata": {},
   "source": [
    "So, if we know what output we want from the activation function we can use gradient descent (what we have done above), to try to find the suitable input. However, in a artificial neuron we cannot directly control the input to the activation function. The input `z` is a combination of multiple weighted inputs, and possible a separate bias. We can try to figure out how to adjust the weights and bias, and if the inputs is from another neuron (and not the input layer), we can suggest how we would like the output from other neurons should change, but lets pretend there is only the one neuron, which only have the one input, and lets skip that bias initially.\n",
    "\n",
    "First off, lets randomize the expected output `y`, the given input `x` and the weight `w`. We cannot change `y` and `x`, but we are supposed to find the suitable `w`. "
   ]
  },
  {
   "cell_type": "code",
   "execution_count": 340,
   "metadata": {},
   "outputs": [
    {
     "name": "stdout",
     "output_type": "stream",
     "text": [
      "Good enough after 81 epochs!\n",
      "e = 0.00994250583054971\n",
      "w = -9.615801178477271\n"
     ]
    },
    {
     "data": {
      "image/png": "[encoded data removed]",
      "text/plain": [
       "<matplotlib.figure.Figure at 0x8fb1f70>"
      ]
     },
     "metadata": {},
     "output_type": "display_data"
    }
   ],
   "source": [
    "learning_rate, sigma, max_epochs = 0.05, 0.01, 1000\n",
    "y, x, w = np.random.rand(), np.random.rand(), np.random.randn()\n",
    "f, fprim = sigmoid, lambda y : y * (1 - y)\n",
    "\n",
    "z = w * x\n",
    "yhat = f(z)\n",
    "plt.plot(z, yhat, 'ro')\n",
    "\n",
    "for epoch in range(max_epochs):\n",
    "    e = yhat - y\n",
    "    #print(\"e =\", e)\n",
    "    if (abs(e) < sigma):\n",
    "        print(\"Good enough after {} epochs!\".format(epoch))\n",
    "        break\n",
    "    dydz = fprim(yhat)\n",
    "    dz = - learning_rate * e / dydz    \n",
    "    dw = dz / x\n",
    "    w += dw\n",
    "    #print(\"dw =\", dw, \"w\", w) \n",
    "    # ---- \n",
    "    z = w * x\n",
    "    yhat = f(z)\n",
    "    #z += dz\n",
    "    #yhat = f(z)\n",
    "    plt.plot(z, yhat, 'bo')\n",
    "\n",
    "print(\"e =\", e) \n",
    "print(\"w =\", w) \n",
    "\n",
    "\n",
    "plt.plot(z, yhat, 'go')   \n",
    "plt.plot(X, f(X), 'black')\n",
    "plt.plot(X, np.ones((X.shape[0]))*y, 'g')\n",
    "plt.show()"
   ]
  },
  {
   "cell_type": "markdown",
   "metadata": {},
   "source": [
    "Lets instead say we have two weighted inputs and one expected output, how would that be?"
   ]
  },
  {
   "cell_type": "code",
   "execution_count": 367,
   "metadata": {},
   "outputs": [
    {
     "name": "stdout",
     "output_type": "stream",
     "text": [
      "Good enough after 24 epochs!\n",
      "e = -0.009474220926218857\n",
      "w = [5.67991209 1.33678233]\n"
     ]
    },
    {
     "data": {
      "image/png": "[encoded data removed]",
      "text/plain": [
       "<matplotlib.figure.Figure at 0x36cd570>"
      ]
     },
     "metadata": {},
     "output_type": "display_data"
    }
   ],
   "source": [
    "learning_rate, sigma, max_epochs = 0.05, 0.0001, 1000\n",
    "y, x, w = np.random.rand(), np.random.rand(2), np.random.randn(2)\n",
    "f, fprim = sigmoid, lambda y : y * (1 - y)\n",
    "\n",
    "z = w.dot(x)\n",
    "yhat = f(z)\n",
    "plt.plot(z, yhat, 'ro')\n",
    "\n",
    "for epoch in range(max_epochs):\n",
    "    e = yhat - y\n",
    "    #print(\"e =\", e, \"sum(e ** 2) = \", np.sum(e ** 2))\n",
    "    if (abs(np.sum(e ** 2)) < sigma):\n",
    "        print(\"Good enough after {} epochs!\".format(epoch))\n",
    "        break\n",
    "    dydz = fprim(yhat)\n",
    "    dz = - learning_rate * e / dydz    \n",
    "    dw = dz / x  # <---- why, and what does it really mean?\n",
    "    w += dw\n",
    "    #print(\"dw =\", dw, \"w\", w) \n",
    "    # ---- \n",
    "    z = w.dot(x)\n",
    "    yhat = f(z)\n",
    "    #print(\"z = \", z, \"yhat = \", yhat)\n",
    "    #z += dz\n",
    "    #yhat = f(z)\n",
    "    plt.plot(z, yhat, 'bo')\n",
    "\n",
    "print(\"e =\", e) \n",
    "print(\"w =\", w) \n",
    "\n",
    "\n",
    "plt.plot(z, yhat, 'go')   \n",
    "plt.plot(X, f(X), 'black')\n",
    "plt.plot(X, np.ones((X.shape[0]))*y, 'g')\n",
    "plt.show()"
   ]
  },
  {
   "cell_type": "markdown",
   "metadata": {},
   "source": [
    "Lets now assume that we actually have two examples in our training data that we need to match, can we manage that?"
   ]
  },
  {
   "cell_type": "code",
   "execution_count": 404,
   "metadata": {},
   "outputs": [
    {
     "name": "stdout",
     "output_type": "stream",
     "text": [
      "e = [[-0.13068784  0.01024016]] sum(e ** 2) =  0.017184171700592592\n",
      "dw = [[-0.0445929  -0.05572265]]\n",
      "e = [[-0.12710829  0.01328963]] sum(e ** 2) =  0.016333131372289672\n",
      "dw = [[-0.04196865 -0.05340644]]\n",
      "e = [[-0.12371207  0.0161811 ]] sum(e ** 2) =  0.015566504458905334\n",
      "dw = [[-0.03947958 -0.05120929]]\n",
      "e = [[-0.12049005  0.01892204]] sum(e ** 2) =  0.014875896366178587\n",
      "dw = [[-0.03711911 -0.04912537]]\n",
      "e = [[-0.11743348  0.02151965]] sum(e ** 2) =  0.014253716524731657\n",
      "dw = [[-0.03488093 -0.04714906]]\n",
      "e = [[-0.11453395  0.02398086]] sum(e ** 2) =  0.013693107966964732\n",
      "dw = [[-0.03275899 -0.04527499]]\n",
      "e = [[-0.11178346  0.02631234]] sum(e ** 2) =  0.013187881657475834\n",
      "dw = [[-0.03074748 -0.04349801]]\n",
      "e = [[-0.10917435  0.02852047]] sum(e ** 2) =  0.012732455579158634\n",
      "dw = [[-0.02884083 -0.0418132 ]]\n",
      "e = [[-0.10669931  0.03061136]] sum(e ** 2) =  0.012321798483737354\n",
      "dw = [[-0.02703376 -0.04021587]]\n",
      "e = [[-0.10435139  0.03259087]] sum(e ** 2) =  0.011951378148413391\n",
      "dw = [[-0.02532117 -0.03870152]]\n",
      "e = [[-0.10212398  0.03446459]] sum(e ** 2) =  0.011617113934091518\n",
      "dw = [[-0.02369825 -0.03726589]]\n",
      "e = [[-0.10001076  0.03623784]] sum(e ** 2) =  0.011315333410821938\n",
      "dw = [[-0.0221604  -0.03590491]]\n",
      "e = [[-0.09800577  0.03791572]] sum(e ** 2) =  0.011042732798930996\n",
      "dw = [[-0.02070322 -0.03461471]]\n",
      "e = [[-0.09610332  0.03950308]] sum(e ** 2) =  0.01079634096681035\n",
      "dw = [[-0.01932254 -0.03339161]]\n",
      "e = [[-0.09429801  0.04100453]] sum(e ** 2) =  0.010573486726060139\n",
      "dw = [[-0.01801442 -0.03223212]]\n",
      "e = [[-0.09258473  0.04242448]] sum(e ** 2) =  0.010371769169702273\n",
      "dw = [[-0.01677506 -0.03113291]]\n",
      "e = [[-0.09095862  0.04376711]] sum(e ** 2) =  0.010189030807958487\n",
      "dw = [[-0.01560091 -0.03009083]]\n",
      "e = [[-0.08941508  0.04503639]] sum(e ** 2) =  0.010023333267427404\n",
      "dw = [[-0.01448855 -0.02910289]]\n",
      "e = [[-0.08794975  0.04623611]] sum(e ** 2) =  0.00987293533246117\n",
      "Good enough after 18 epochs!\n",
      "(2, 2) (1, 2)\n",
      "e = [[-0.08794975  0.04623611]]\n",
      "w = [[-0.36322232  0.59706184]]\n",
      "[[ 0.15049181 -0.13175563]] [[0.53755211 0.46710866]]\n"
     ]
    },
    {
     "data": {
      "image/png": "[encoded data removed]",
      "text/plain": [
       "<matplotlib.figure.Figure at 0x934ab90>"
      ]
     },
     "metadata": {},
     "output_type": "display_data"
    }
   ],
   "source": [
    "learning_rate, sigma, max_epochs = 0.1, 0.01, 1000\n",
    "mm=2\n",
    "y, x, w, b = np.random.rand(1,mm), np.random.rand(2,mm), np.random.randn(1,2), np.random.randn(1,1)\n",
    "f, fprim = sigmoid, lambda y : y * (1 - y)\n",
    "\n",
    "\n",
    "m = x.shape[1]\n",
    "\n",
    "z = w.dot(x) + b\n",
    "yhat = f(z)\n",
    "plt.plot(z, yhat, 'ro')\n",
    "\n",
    "for epoch in range(max_epochs):\n",
    "    e = yhat - y\n",
    "    print(\"e =\", e, \"sum(e ** 2) = \", np.sum(e ** 2))\n",
    "    if (abs(np.sum(e ** 2)) < sigma):\n",
    "        print(\"Good enough after {} epochs!\".format(epoch))\n",
    "        break\n",
    "#    dydz = fprim(yhat)\n",
    "#    dz = - learning_rate * e / dydz\n",
    "    #print(\"dydz = \", dydz, \"dz =\", dz )\n",
    "#    dz = np.average(dz)\n",
    "    #print(\"dz = avg(dz) =\", dz)\n",
    "    # dw = dz / x  # <---- why, and what does it really mean? we need to split the wanted change in z over the inputs considering w\n",
    "    A = yhat.T.T\n",
    "    Y = y.T.T\n",
    "    X = x.T.T\n",
    "   \n",
    "    #dw = 1 / m * np.dot(X, (A-Y).T).T  # from https://hub.coursera-notebooks.org/user/yadwmbgxpaqkrcmnopvewd/notebooks/Week%202/Logistic%20Regression%20as%20a%20Neural%20Network/Logistic%20Regression%20with%20a%20Neural%20Network%20mindset%20v5.ipynb\n",
    "    dw = 1 / m * np.dot((A-Y), X.T)\n",
    "    print(\"dw =\", dw)\n",
    "    \n",
    "    db = 1 / m * np.sum(A - Y)    \n",
    "    \n",
    "    w -= learning_rate * dw\n",
    "    b -= learning_rate * db\n",
    "    #print(\"dw =\", dw, \"w\", w) \n",
    "    # ---- \n",
    "    z = w.dot(x) + b\n",
    "    yhat = f(z)\n",
    "    plt.plot(z, yhat, 'bo')\n",
    "\n",
    "print(X.shape, Y.shape)\n",
    "print(\"e =\", e) \n",
    "print(\"w =\", w) \n",
    "\n",
    "print(z, yhat)\n",
    "plt.plot(z, yhat, 'go')  \n",
    "X = np.arange(-3, 3, 0.1)\n",
    "plt.plot(X, f(X), 'black')\n",
    "for i in y.flatten():\n",
    "    plt.plot(X, np.ones((X.shape[0]))*i, 'g')\n",
    "plt.show()"
   ]
  },
  {
   "cell_type": "markdown",
   "metadata": {},
   "source": [
    "So, to summarize, lets have a concrete example, we want to train a neuron to implement this truth table:\n",
    "\n",
    " x1 | x2 | y \n",
    "----|----|----\n",
    "  0 |  0 |  0\n",
    "  0 |  1 |  0\n",
    "  1 |  0 |  0\n",
    "  1 |  1 |  1\n",
    "  \n",
    "  "
   ]
  },
  {
   "cell_type": "code",
   "execution_count": 515,
   "metadata": {},
   "outputs": [
    {
     "name": "stdout",
     "output_type": "stream",
     "text": [
      " x1,x2,y\n",
      "[[0 0 0]\n",
      " [0 1 0]\n",
      " [1 0 0]\n",
      " [1 1 1]]\n"
     ]
    }
   ],
   "source": [
    "truth_table = np.array([[0, 0, 0], [0, 1, 0], [1, 0, 0], [1, 1, 1]])\n",
    "print(\" x1,x2,y\")\n",
    "print(truth_table)"
   ]
  },
  {
   "cell_type": "markdown",
   "metadata": {},
   "source": [
    "We have one neuron with 2 inputs and 1 output, which means we need 2 weights and 1 bias, lets randomize them and see what output we get for our training data."
   ]
  },
  {
   "cell_type": "code",
   "execution_count": 521,
   "metadata": {},
   "outputs": [
    {
     "name": "stdout",
     "output_type": "stream",
     "text": [
      "W = [[ 0.22739612 -1.1559714 ]] B = [[-0.82235222]]\n"
     ]
    }
   ],
   "source": [
    "W = np.random.randn(1,2)\n",
    "B = np.random.randn(1,1)\n",
    "print(\"W =\", W, \"B =\", B)"
   ]
  },
  {
   "cell_type": "code",
   "execution_count": 522,
   "metadata": {},
   "outputs": [
    {
     "name": "stdout",
     "output_type": "stream",
     "text": [
      "W = [[ 0.22739612 -1.1559714 ]] B = [[-0.82235222]]\n",
      "X =\n",
      "[[0 0 1 1]\n",
      " [0 1 0 1]] \n",
      "Y =\n",
      "[[0 0 0 1]]\n",
      "A:\n",
      "[[0.30526458 0.12149765 0.3554985  0.14793025]]\n",
      "error:\n",
      "[[ 0.30526458  0.12149765  0.3554985  -0.85206975]]\n"
     ]
    }
   ],
   "source": [
    "print(\"W =\", W, \"B =\", B)\n",
    "X = truth_table[:, 0:2].T\n",
    "Y = truth_table[:, 2:3].T\n",
    "print(\"X =\\n\" + str(X), \"\\nY =\\n\" + str(Y))\n",
    "A = sigmoid(W.dot(X) + B)\n",
    "print(\"A:\\n\" + str(A))\n",
    "print(\"error:\\n\" + str(A - Y))"
   ]
  },
  {
   "cell_type": "markdown",
   "metadata": {},
   "source": [
    "Lets calculate the gradients on w and b and try to update the weights and bias based on that."
   ]
  },
  {
   "cell_type": "code",
   "execution_count": 524,
   "metadata": {
    "collapsed": true
   },
   "outputs": [
    {
     "name": "stdout",
     "output_type": "stream",
     "text": [
      "dw: [[-0.08352613 -0.1720251 ]]  db: 0.13878517663055484\n",
      "W: [[0.9194892 0.0911577]] B: [[-1.30093824]]\n",
      "A:[[0.21400716 0.22973988 0.40577745 0.42793254]]\n",
      "error:[[ 0.21400716  0.22973988  0.40577745 -0.57206746]]\n",
      "dw: [[-0.07725353 -0.15649385]]  db: 0.1362450316808959\n",
      "W: [[0.99950651 0.25475044]] B: [[-1.43860684]]\n",
      "A:[[0.19176118 0.23435951 0.39195536 0.45404261]]\n",
      "error:[[ 0.19176118  0.23435951  0.39195536 -0.54595739]]\n",
      "dw: [[-0.07294755 -0.14373844]]  db: 0.13196474795124002\n",
      "W: [[1.07438001 0.40435815]] B: [[-1.57268945]]\n",
      "A:[[0.17183333 0.23715674 0.37793804 0.47652944]]\n",
      "error:[[ 0.17183333  0.23715674  0.37793804 -0.52347056]]\n",
      "dw: [[-0.06974684 -0.13293109]]  db: 0.1270857287673226\n",
      "W: [[1.14557853 0.54228482]] B: [[-1.70211388]]\n",
      "A:[[0.15418938 0.23869835 0.36434949 0.49643743]]\n",
      "error:[[ 0.15418938  0.23869835  0.36434949 -0.50356257]]\n",
      "dw: [[-0.06719677 -0.12358234]]  db: 0.1221454959600331\n",
      "W: [[1.21394486 0.67020129]] B: [[-1.82659812]]\n",
      "A:[[0.13864403 0.23932262 0.35145419 0.51438304]]\n",
      "error:[[ 0.13864403  0.23932262  0.35145419 -0.48561696]]\n",
      "W: [[1.2767366  0.78362509]] B: [[-1.94035378]]\n",
      "A:[[0.125609   0.23926221 0.33992753 0.52996602]]\n",
      "error:[[ 0.125609    0.23926221  0.33992753 -0.47003398]]\n",
      "Pretending above 0.5 means 1:  [[0 0 0 1]]\n"
     ]
    }
   ],
   "source": [
    "debug = True\n",
    "\n",
    "\n",
    "for i in range(100):    \n",
    "    dw = (1 / m * np.dot(X, (A-Y).T)).T\n",
    "    db = 1 / m * np.sum(A - Y)      \n",
    "    learning_rate = 0.05\n",
    "    W -= learning_rate * dw\n",
    "    B -= learning_rate * db    \n",
    "    A = sigmoid(W.dot(X) + B)\n",
    "    if i % 20 == 0 and debug:\n",
    "        print(\"dw:\", dw, \" db:\", db)\n",
    "        print(\"W:\", W, \"B:\", B)\n",
    "        print(\"A:\" + str(A))\n",
    "        print(\"error:\" + str(A - Y))\n",
    "\n",
    "print(\"W:\", W, \"B:\", B)\n",
    "print(\"A:\" + str(A))\n",
    "print(\"error:\" + str(A - Y))\n",
    "print(\"Pretending above 0.5 means 1: \", (A > 0.5) * 1)"
   ]
  },
  {
   "cell_type": "markdown",
   "metadata": {},
   "source": [
    "Lets put that all together in a compact way:"
   ]
  },
  {
   "cell_type": "code",
   "execution_count": 525,
   "metadata": {},
   "outputs": [],
   "source": [
    "learning_rate = 0.05\n",
    "truth_table = np.array([[0, 0, 0], [0, 1, 0], [1, 0, 0], [1, 1, 1]])\n",
    "X = truth_table[:, 0:2].T\n",
    "Y = truth_table[:, 2:3].T\n",
    "W = np.random.randn(1,2)\n",
    "B = np.random.randn(1,1)\n",
    "\n",
    "A = sigmoid(W.dot(X) + B)\n",
    "dw = (1 / m * np.dot(X, (A-Y).T)).T\n",
    "db = 1 / m * np.sum(A - Y) \n",
    "W -= learning_rate * dw\n",
    "B -= learning_rate * db  \n",
    "\n",
    "print(\"What next? Borrow?\")"
   ]
  },
  {
   "cell_type": "code",
   "execution_count": 526,
   "metadata": {},
   "outputs": [],
   "source": [
    "def sigmoid(z):\n",
    "    \"\"\"\n",
    "    Compute the sigmoid of z\n",
    "\n",
    "    Arguments:\n",
    "    z -- A scalar or numpy array of any size.\n",
    "\n",
    "    Return:\n",
    "    s -- sigmoid(z)\n",
    "    \"\"\"\n",
    "\n",
    "    ### START CODE HERE ### (≈ 1 line of code)\n",
    "    s = 1 / (1 + np.exp(-z))\n",
    "    ### END CODE HERE ###\n",
    "    \n",
    "    return s\n",
    "\n",
    "def initialize_with_zeros(dim):\n",
    "    \"\"\"\n",
    "    This function creates a vector of zeros of shape (dim, 1) for w and initializes b to 0.\n",
    "    \n",
    "    Argument:\n",
    "    dim -- size of the w vector we want (or number of parameters in this case)\n",
    "    \n",
    "    Returns:\n",
    "    w -- initialized vector of shape (dim, 1)\n",
    "    b -- initialized scalar (corresponds to the bias)\n",
    "    \"\"\"\n",
    "    \n",
    "    ### START CODE HERE ### (≈ 1 line of code)\n",
    "    w = np.zeros((dim, 1))\n",
    "    b = 0\n",
    "    ### END CODE HERE ###\n",
    "\n",
    "    assert(w.shape == (dim, 1))\n",
    "    assert(isinstance(b, float) or isinstance(b, int))\n",
    "    \n",
    "    return w, b\n",
    "\n",
    "def propagate(w, b, X, Y):\n",
    "    \"\"\"\n",
    "    Implement the cost function and its gradient for the propagation explained above\n",
    "\n",
    "    Arguments:\n",
    "    w -- weights, a numpy array of size (num_px * num_px * 3, 1)\n",
    "    b -- bias, a scalar\n",
    "    X -- data of size (num_px * num_px * 3, number of examples)\n",
    "    Y -- true \"label\" vector (containing 0 if non-cat, 1 if cat) of size (1, number of examples)\n",
    "\n",
    "    Return:\n",
    "    cost -- negative log-likelihood cost for logistic regression\n",
    "    dw -- gradient of the loss with respect to w, thus same shape as w\n",
    "    db -- gradient of the loss with respect to b, thus same shape as b\n",
    "    \n",
    "    Tips:\n",
    "    - Write your code step by step for the propagation. np.log(), np.dot()\n",
    "    \"\"\"\n",
    "    \n",
    "    m = X.shape[1]\n",
    "    \n",
    "    # FORWARD PROPAGATION (FROM X TO COST)\n",
    "    ### START CODE HERE ### (≈ 2 lines of code)\n",
    "    A = sigmoid(np.dot(w.T, X) + b)             # compute activation\n",
    "    cost = -1/m * np.sum(Y * np.log(A) + (1 - Y) * np.log(1 - A))   # compute cost\n",
    "    ### END CODE HERE ###\n",
    "    \n",
    "    # BACKWARD PROPAGATION (TO FIND GRAD)\n",
    "    ### START CODE HERE ### (≈ 2 lines of code)\n",
    "    dw = 1 / m * np.dot(X, (A-Y).T)\n",
    "    db = 1 / m * np.sum(A - Y)\n",
    "    ### END CODE HERE ###\n",
    "\n",
    "    assert(dw.shape == w.shape)\n",
    "    assert(db.dtype == float)\n",
    "    cost = np.squeeze(cost)\n",
    "    assert(cost.shape == ())\n",
    "    \n",
    "    grads = {\"dw\": dw,\n",
    "             \"db\": db}\n",
    "    \n",
    "    return grads, cost\n",
    "\n",
    "def optimize(w, b, X, Y, num_iterations, learning_rate, print_cost = False):\n",
    "    \"\"\"\n",
    "    This function optimizes w and b by running a gradient descent algorithm\n",
    "    \n",
    "    Arguments:\n",
    "    w -- weights, a numpy array of size (num_px * num_px * 3, 1)\n",
    "    b -- bias, a scalar\n",
    "    X -- data of shape (num_px * num_px * 3, number of examples)\n",
    "    Y -- true \"label\" vector (containing 0 if non-cat, 1 if cat), of shape (1, number of examples)\n",
    "    num_iterations -- number of iterations of the optimization loop\n",
    "    learning_rate -- learning rate of the gradient descent update rule\n",
    "    print_cost -- True to print the loss every 100 steps\n",
    "    \n",
    "    Returns:\n",
    "    params -- dictionary containing the weights w and bias b\n",
    "    grads -- dictionary containing the gradients of the weights and bias with respect to the cost function\n",
    "    costs -- list of all the costs computed during the optimization, this will be used to plot the learning curve.\n",
    "    \n",
    "    Tips:\n",
    "    You basically need to write down two steps and iterate through them:\n",
    "        1) Calculate the cost and the gradient for the current parameters. Use propagate().\n",
    "        2) Update the parameters using gradient descent rule for w and b.\n",
    "    \"\"\"\n",
    "    \n",
    "    costs = []\n",
    "    \n",
    "    for i in range(num_iterations):\n",
    "        \n",
    "        \n",
    "        # Cost and gradient calculation (≈ 1-4 lines of code)\n",
    "        ### START CODE HERE ### \n",
    "        grads, cost = propagate(w, b, X, Y)\n",
    "        ### END CODE HERE ###\n",
    "        \n",
    "        # Retrieve derivatives from grads\n",
    "        dw = grads[\"dw\"]\n",
    "        db = grads[\"db\"]\n",
    "        \n",
    "        # update rule (≈ 2 lines of code)\n",
    "        ### START CODE HERE ###\n",
    "        w -= learning_rate * dw\n",
    "        b -= learning_rate * db\n",
    "        ### END CODE HERE ###\n",
    "        \n",
    "        # Record the costs\n",
    "        if i % 100 == 0:\n",
    "            costs.append(cost)\n",
    "        \n",
    "        # Print the cost every 100 training iterations\n",
    "        if print_cost and i % 100 == 0:\n",
    "            print (\"Cost after iteration %i: %f\" %(i, cost))\n",
    "    \n",
    "    params = {\"w\": w,\n",
    "              \"b\": b}\n",
    "    \n",
    "    grads = {\"dw\": dw,\n",
    "             \"db\": db}\n",
    "    \n",
    "    return params, grads, costs\n",
    "\n",
    "def predict(w, b, X):\n",
    "    '''\n",
    "    Predict whether the label is 0 or 1 using learned logistic regression parameters (w, b)\n",
    "    \n",
    "    Arguments:\n",
    "    w -- weights, a numpy array of size (num_px * num_px * 3, 1)\n",
    "    b -- bias, a scalar\n",
    "    X -- data of size (num_px * num_px * 3, number of examples)\n",
    "    \n",
    "    Returns:\n",
    "    Y_prediction -- a numpy array (vector) containing all predictions (0/1) for the examples in X\n",
    "    '''\n",
    "    \n",
    "    m = X.shape[1]\n",
    "    Y_prediction = np.zeros((1,m))\n",
    "    w = w.reshape(X.shape[0], 1)\n",
    "    \n",
    "    # Compute vector \"A\" predicting the probabilities of a cat being present in the picture\n",
    "    ### START CODE HERE ### (≈ 1 line of code)\n",
    "    A = sigmoid(np.dot(w.T, X) + b)\n",
    "    ### END CODE HERE ###\n",
    "    \n",
    "    for i in range(A.shape[1]):\n",
    "        \n",
    "        # Convert probabilities A[0,i] to actual predictions p[0,i]\n",
    "        ### START CODE HERE ### (≈ 4 lines of code)\n",
    "        Y_prediction[0,i] = 1 if A[0,i] > 0.5 else 0\n",
    "        ### END CODE HERE ###\n",
    "    \n",
    "    assert(Y_prediction.shape == (1, m))\n",
    "    \n",
    "    return Y_prediction\n",
    "\n",
    "def model(X_train, Y_train, X_test, Y_test, num_iterations = 2000, learning_rate = 0.5, print_cost = False):\n",
    "    \"\"\"\n",
    "    Builds the logistic regression model by calling the function you've implemented previously\n",
    "    \n",
    "    Arguments:\n",
    "    X_train -- training set represented by a numpy array of shape (num_px * num_px * 3, m_train)\n",
    "    Y_train -- training labels represented by a numpy array (vector) of shape (1, m_train)\n",
    "    X_test -- test set represented by a numpy array of shape (num_px * num_px * 3, m_test)\n",
    "    Y_test -- test labels represented by a numpy array (vector) of shape (1, m_test)\n",
    "    num_iterations -- hyperparameter representing the number of iterations to optimize the parameters\n",
    "    learning_rate -- hyperparameter representing the learning rate used in the update rule of optimize()\n",
    "    print_cost -- Set to true to print the cost every 100 iterations\n",
    "    \n",
    "    Returns:\n",
    "    d -- dictionary containing information about the model.\n",
    "    \"\"\"\n",
    "    \n",
    "    ### START CODE HERE ###\n",
    "    \n",
    "    # initialize parameters with zeros (≈ 1 line of code)\n",
    "    w, b = np.zeros((X_train.shape[0], 1)), 0\n",
    "\n",
    "    # Gradient descent (≈ 1 line of code)\n",
    "    parameters, grads, costs = optimize(w, b, X_train, Y_train, num_iterations, learning_rate, print_cost)\n",
    "    \n",
    "    # Retrieve parameters w and b from dictionary \"parameters\"\n",
    "    w = parameters[\"w\"]\n",
    "    b = parameters[\"b\"]\n",
    "    \n",
    "    # Predict test/train set examples (≈ 2 lines of code)\n",
    "    Y_prediction_test = predict(w, b, X_test)\n",
    "    Y_prediction_train = predict(w, b, X_train)\n",
    "\n",
    "    ### END CODE HERE ###\n",
    "\n",
    "    # Print train/test Errors\n",
    "    print(\"train accuracy: {} %\".format(100 - np.mean(np.abs(Y_prediction_train - Y_train)) * 100))\n",
    "    print(\"test accuracy: {} %\".format(100 - np.mean(np.abs(Y_prediction_test - Y_test)) * 100))\n",
    "\n",
    "    \n",
    "    d = {\"costs\": costs,\n",
    "         \"Y_prediction_test\": Y_prediction_test, \n",
    "         \"Y_prediction_train\" : Y_prediction_train, \n",
    "         \"w\" : w, \n",
    "         \"b\" : b,\n",
    "         \"learning_rate\" : learning_rate,\n",
    "         \"num_iterations\": num_iterations}\n",
    "    \n",
    "    return d"
   ]
  },
  {
   "cell_type": "code",
   "execution_count": 536,
   "metadata": {},
   "outputs": [
    {
     "name": "stdout",
     "output_type": "stream",
     "text": [
      "Cost after iteration 0: 0.693147\n",
      "Cost after iteration 100: 0.539780\n",
      "Cost after iteration 200: 0.462520\n",
      "Cost after iteration 300: 0.406305\n",
      "Cost after iteration 400: 0.363389\n",
      "train accuracy: 100.0 %\n",
      "test accuracy: 100.0 %\n"
     ]
    },
    {
     "data": {
      "text/plain": [
       "{'Y_prediction_test': array([[0., 0., 0., 1.]]),\n",
       " 'Y_prediction_train': array([[0., 0., 0., 1.]]),\n",
       " 'b': -2.202319937726839,\n",
       " 'costs': [0.6931471805599453,\n",
       "  0.5397804074873688,\n",
       "  0.4625195582913762,\n",
       "  0.4063051336837683,\n",
       "  0.36338883785651616],\n",
       " 'learning_rate': 0.05,\n",
       " 'num_iterations': 500,\n",
       " 'w': array([[1.23314027],\n",
       "        [1.23314027]])}"
      ]
     },
     "execution_count": 536,
     "metadata": {},
     "output_type": "execute_result"
    }
   ],
   "source": [
    "X_train, Y_train, X_test, Y_test = X, Y, X, Y\n",
    "model(X_train, Y_train, X_test, Y_test, num_iterations = 500, learning_rate = 0.05, print_cost = True)"
   ]
  },
  {
   "cell_type": "code",
   "execution_count": 537,
   "metadata": {},
   "outputs": [
    {
     "data": {
      "text/plain": [
       "array([[0, 0, 1, 1],\n",
       "       [0, 1, 0, 1]])"
      ]
     },
     "execution_count": 537,
     "metadata": {},
     "output_type": "execute_result"
    }
   ],
   "source": [
    "X\n"
   ]
  },
  {
   "cell_type": "code",
   "execution_count": null,
   "metadata": {},
   "outputs": [],
   "source": []
  }
 ],
 "metadata": {
  "kernelspec": {
   "display_name": "Python 3",
   "language": "python",
   "name": "python3"
  },
  "language_info": {
   "codemirror_mode": {
    "name": "ipython",
    "version": 3
   },
   "file_extension": ".py",
   "mimetype": "text/x-python",
   "name": "python",
   "nbconvert_exporter": "python",
   "pygments_lexer": "ipython3",
   "version": "3.6.4"
  }
 },
 "nbformat": 4,
 "nbformat_minor": 2
}
