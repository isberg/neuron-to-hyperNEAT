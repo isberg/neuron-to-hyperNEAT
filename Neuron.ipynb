{
 "cells": [
  {
   "cell_type": "markdown",
   "metadata": {},
   "source": [
    "Artificial Neurons used in Artificial Neural Networks (ANNs) are a simplified simulation of how the neurons in our brains work. (Artificial) Neurons have inputs and an output as well as an activation function. Lets start with simulating a Neuron with two inputs and an output. The letter x is often used for inputs and y for outputs. You will also see that there are weights (w) and a bias (b)."
   ]
  },
  {
   "cell_type": "markdown",
   "metadata": {},
   "source": [
    "Lets assume the inputs and parameters to our neuron is as follows:\n",
    "\n",
    "| x1 | x2 | w1 | w2 | b |\n",
    "|----|----|----|----|---|\n",
    "| 1  | 1  | 1  | 0.5| ? |\n",
    "\n",
    "We can describe that in Python like:"
   ]
  },
  {
   "cell_type": "code",
   "execution_count": null,
   "metadata": {},
   "outputs": [],
   "source": [
    "x1 = 1.0\n",
    "x2 = 1.0\n",
    "w1 = 1.0\n",
    "w2 = 0.5"
   ]
  },
  {
   "cell_type": "markdown",
   "metadata": {},
   "source": [
    "And we can calculate the output as follows:"
   ]
  },
  {
   "cell_type": "code",
   "execution_count": null,
   "metadata": {},
   "outputs": [],
   "source": [
    "y = x1 * w1 + x2 * w2\n",
    "print(y)"
   ]
  },
  {
   "cell_type": "markdown",
   "metadata": {},
   "source": [
    "What if we change the input values then, lets say change x1 from 1 to 0?"
   ]
  },
  {
   "cell_type": "code",
   "execution_count": null,
   "metadata": {},
   "outputs": [],
   "source": [
    "x1 = 0.0\n",
    "y = x1 * w1 + x2 * w2\n",
    "print(y)"
   ]
  },
  {
   "cell_type": "markdown",
   "metadata": {},
   "source": [
    "It is all very well to be able to do these above calculations, but it seems a bit laboursome to write this code over and over again, and what about the actiation function, and the offset b? Lets back up and introduce those concepts and define an upgraded formula for the neuron. Lets call the activation function f.\n",
    "\n",
    "z = x1 \\* w1 + x2 \\* w2 + b\n",
    "\n",
    "y = f(z)"
   ]
  },
  {
   "cell_type": "code",
   "execution_count": null,
   "metadata": {},
   "outputs": [],
   "source": [
    "b = 0\n",
    "z = x1 * w1 + x2 * w2 + b\n",
    "print(z)"
   ]
  },
  {
   "cell_type": "markdown",
   "metadata": {},
   "source": [
    "So, we set b to 0 and calculated z, but what should f be then? Traditionally you want the neuron to fire (output something close to 1) if the sum of the inputs are high enough and not fire if the inputs are low (outputting something close to 0) and possibly outputting something between 0 and 1 if the inputs are somewhere in between. Traditionally a sigmoid function is used, but for simplicity, we will instead use a step function and define it as follows: "
   ]
  },
  {
   "cell_type": "code",
   "execution_count": null,
   "metadata": {},
   "outputs": [],
   "source": [
    "def step(z):\n",
    "    if z > 0:\n",
    "        return 1\n",
    "    else:\n",
    "        return 0"
   ]
  },
  {
   "cell_type": "code",
   "execution_count": null,
   "metadata": {},
   "outputs": [],
   "source": [
    "step(z)"
   ]
  },
  {
   "cell_type": "markdown",
   "metadata": {},
   "source": [
    "Lets put all this together in a neuron function and see if we can do something useful with it."
   ]
  },
  {
   "cell_type": "code",
   "execution_count": null,
   "metadata": {},
   "outputs": [],
   "source": [
    "def neuron(x1, x2, w1, w2, b, f):\n",
    "    z = x1 * w1 + x2 * w2 + b\n",
    "    y = f(z)\n",
    "    return y"
   ]
  },
  {
   "cell_type": "markdown",
   "metadata": {},
   "source": [
    "Lets try to call it with a few different values and see what happens. Maybe use these values:\n",
    "\n",
    "| x1 | x2 | w1 | w2 | b | f |\n",
    "|----|----|----|----|---|---|\n",
    "| 1  | 1  | 1  | 0.5| 0 |step|\n",
    "| 0  | 1  | 1  | 0.5| 0 |step|\n",
    "| 0  | 0  | 1  | 0.5| 0 |step|\n",
    "| 0  | 0  | 1  | 0.5| 0.5 |step|\n"
   ]
  },
  {
   "cell_type": "code",
   "execution_count": null,
   "metadata": {
    "scrolled": true
   },
   "outputs": [],
   "source": [
    "print(neuron(1, 1, 1, 0.5, 0, step))\n",
    "print(neuron(0, 1, 1, 0.5, 0, step))\n",
    "print(neuron(0, 0, 1, 0.5, 0, step))\n",
    "print(neuron(0, 0, 1, 0.5, 0.5, step))"
   ]
  },
  {
   "cell_type": "markdown",
   "metadata": {},
   "source": [
    "Impressed? What have we achieved? Or rather, what do we want to achieve? Perhaps we, for starters want to achieve something that given two inputs give the one output according to this:\n",
    "\n",
    "| x1 | x2 | y  |\n",
    "|----|----|----|\n",
    "| 0  | 0  | 0  |\n",
    "| 0  | 1  | 0  |\n",
    "| 1  | 0  | 0  | \n",
    "| 1  | 1  | 1  | \n",
    "\n",
    "When both inputs are 1 then we want the output to be one, otherwise 0. The question is then what we should use as weights, bias and activation function to match this table close enough. (Btw, the table is actually the truth table for logical AND.) "
   ]
  },
  {
   "cell_type": "code",
   "execution_count": null,
   "metadata": {},
   "outputs": [],
   "source": [
    "w1 = 0.6\n",
    "w2 = 0.6\n",
    "b = -1\n",
    "print(neuron(0, 0, w1, w2, b, step))\n",
    "print(neuron(0, 1, w1, w2, b, step))\n",
    "print(neuron(1, 0, w1, w2, b, step))\n",
    "print(neuron(1, 1, w1, w2, b, step))"
   ]
  },
  {
   "cell_type": "markdown",
   "metadata": {},
   "source": [
    "What if we want our neuron friend to calculate the following table then:\n",
    "\n",
    "| x1 | x2 | y  |\n",
    "|----|----|----|\n",
    "| 0  | 0  | 0  |\n",
    "| 0  | 1  | 1  |\n",
    "| 1  | 0  | 1  | \n",
    "| 1  | 1  | 1  | \n",
    "\n",
    "What values should w1, w2 and b have then? (Assume that we still use out step function.)"
   ]
  },
  {
   "cell_type": "code",
   "execution_count": null,
   "metadata": {},
   "outputs": [],
   "source": [
    "w1 = 42\n",
    "w2 = 54\n",
    "b = 1337\n",
    "print(neuron(0, 0, w1, w2, b, step))\n",
    "print(neuron(0, 1, w1, w2, b, step))\n",
    "print(neuron(1, 0, w1, w2, b, step))\n",
    "print(neuron(1, 1, w1, w2, b, step))"
   ]
  },
  {
   "cell_type": "markdown",
   "metadata": {},
   "source": [
    "The expected output should be: \n",
    "\n",
    "0<br/>\n",
    "1<br/>\n",
    "1<br/>\n",
    "1<br/>"
   ]
  }
 ],
 "metadata": {
  "kernelspec": {
   "display_name": "Python 3",
   "language": "python",
   "name": "python3"
  },
  "language_info": {
   "codemirror_mode": {
    "name": "ipython",
    "version": 3
   },
   "file_extension": ".py",
   "mimetype": "text/x-python",
   "name": "python",
   "nbconvert_exporter": "python",
   "pygments_lexer": "ipython3",
   "version": "3.6.4"
  }
 },
 "nbformat": 4,
 "nbformat_minor": 2
}
