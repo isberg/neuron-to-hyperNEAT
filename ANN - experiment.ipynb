{
 "cells": [
  {
   "cell_type": "code",
   "execution_count": 41,
   "metadata": {},
   "outputs": [],
   "source": [
    "import numpy as np\n",
    "import matplotlib.pyplot as plt"
   ]
  },
  {
   "cell_type": "code",
   "execution_count": 95,
   "metadata": {},
   "outputs": [],
   "source": [
    "def generate(nodes):\n",
    "    layers = []\n",
    "    for i in range(len(nodes) - 1):\n",
    "        W = np.random.randn(nodes[i + 1], nodes[i])\n",
    "        B = np.random.randn(nodes[i + 1],1)\n",
    "        layers.append((W,B))\n",
    "    return layers"
   ]
  },
  {
   "cell_type": "code",
   "execution_count": 105,
   "metadata": {},
   "outputs": [],
   "source": [
    "def sigmoid(x, derivative=False):\n",
    "    return x*(1-x) if derivative else 1/(1 + np.exp(-x))"
   ]
  },
  {
   "cell_type": "code",
   "execution_count": 80,
   "metadata": {},
   "outputs": [
    {
     "name": "stdout",
     "output_type": "stream",
     "text": [
      "[[0.60108743 0.69478163 0.4476715  0.52480452]]\n",
      "[array([[0.43219259, 0.63566502, 0.18746241, 0.34590808],\n",
      "       [0.43219259, 0.50840616, 0.5112833 , 0.58702484]]), array([[0.60108743, 0.69478163, 0.4476715 , 0.52480452]])]\n"
     ]
    }
   ],
   "source": [
    "def forward_prop(X, L, f = sigmoid):\n",
    "    cache = []\n",
    "    A = X\n",
    "    for li in L:\n",
    "        W, B = li\n",
    "        Z = W.dot(A) + B\n",
    "        A = f(Z)\n",
    "        cache.append(A)\n",
    "    Yhat = A\n",
    "    return Yhat, cache\n",
    "\n",
    "#X = np.array([[0, 0], [0, 1], [1, 0], [1, 1]]).T\n",
    "#Y = np.array([[0, 1, 1, 0]])\n",
    "#L = generate([2, 2, 1])\n",
    "#Yhat, cache = forward_prop(X, L)\n",
    "#print(Yhat)\n",
    "#print(cache)"
   ]
  },
  {
   "cell_type": "code",
   "execution_count": 56,
   "metadata": {},
   "outputs": [],
   "source": [
    "def loss(Y, Yhat):\n",
    "    return np.sum((Y - Yhat) ** 2)"
   ]
  },
  {
   "cell_type": "code",
   "execution_count": 57,
   "metadata": {},
   "outputs": [],
   "source": [
    "def interpret_binary(y):\n",
    "    return (y > 0.5)*1\n",
    "\n",
    "def score(Yhat, Y, percentage = False, interpret = interpret_binary):\n",
    "    correct = interpret(Yhat) == Y\n",
    "    correct_count = sum(correct.flatten())  # Yes, flatten is a bit fishy, it turns a matrix into a vector though, removing one dimension\n",
    "    result = correct_count / len(Y.flatten())\n",
    "    if (percentage): \n",
    "        result = result * 100\n",
    "    return result\n",
    "#print(score(Yhat, Y))\n",
    "#print(score(Yhat, Y, True), \"%\")"
   ]
  },
  {
   "cell_type": "code",
   "execution_count": 109,
   "metadata": {},
   "outputs": [
    {
     "name": "stdout",
     "output_type": "stream",
     "text": [
      "[[ 0.19620439 -0.07970735 -0.06054918  0.19089201]]\n",
      "[[ 0.24940204 -0.44205488 -0.05286569  0.227329  ]\n",
      " [ 0.18248377 -0.0043349  -0.01848719  0.03275182]]\n"
     ]
    }
   ],
   "source": [
    "def back_prop(Y, L, cache):\n",
    "    #print(Y.shape, len(L), len(cache))\n",
    "    Lnext = []\n",
    "    A = Y\n",
    "    for (W, B), Ahat in zip(reversed(L), reversed(cache)):\n",
    "        #print(\"Ahat:\\n\", Ahat)\n",
    "        #print(\"W\", W)\n",
    "        #print(\"B\", B)\n",
    "        E = Ahat - A\n",
    "        deltaZ = E * sigmoid(Ahat, derivative=True)\n",
    "        #Z = W.dot(A) + B\n",
    "        #A = f(Z)\n",
    "        # Z = W * A + B\n",
    "        # W = (Z - B) * A^-1\n",
    "        inputError = deltaZ.dot(W.T)\n",
    "        delta = inputError * sigmoid(Ahat, derivative=True)\n",
    "        \n",
    "        print(delta/Ahat)\n",
    "    return None\n",
    "\n",
    "X = np.array([[0, 0], [0, 1], [1, 0], [1, 1]]).T\n",
    "Y = np.array([[0, 1, 1, 0]])\n",
    "L = generate([2, 2, 1])\n",
    "#print(\"L1\", L[0])\n",
    "#print(\"L2\", L[1])\n",
    "Yhat, cache = forward_prop(X, L)\n",
    "back_prop(Y, L, cache)\n"
   ]
  },
  {
   "cell_type": "code",
   "execution_count": 67,
   "metadata": {},
   "outputs": [
    {
     "name": "stdout",
     "output_type": "stream",
     "text": [
      "[[0 0 1 1]\n",
      " [0 1 0 1]] [[0 0 0 1]]\n",
      "loss: 0.981003636344341\n",
      "result: 75.0 %\n"
     ]
    }
   ],
   "source": [
    "X = np.array([[0, 0], [0, 1], [1, 0], [1, 1]]).T\n",
    "Y = np.array([[0, 0, 0, 1]])\n",
    "print(X, Y)\n",
    "\n",
    "N = generate([2, 1])\n",
    "Yhat = forward_prop(X, N, sigmoid)\n",
    "error = loss(Y, Yhat)\n",
    "print(\"loss:\", error)\n",
    "\n",
    "result = score(Yhat, Y, True)\n",
    "print(\"result:\", result, \"%\")"
   ]
  },
  {
   "cell_type": "code",
   "execution_count": null,
   "metadata": {},
   "outputs": [],
   "source": []
  },
  {
   "cell_type": "code",
   "execution_count": 70,
   "metadata": {},
   "outputs": [
    {
     "name": "stdout",
     "output_type": "stream",
     "text": [
      "[[0.01287546]\n",
      " [0.99224042]\n",
      " [0.99224027]\n",
      " [0.00201252]]\n"
     ]
    }
   ],
   "source": [
    "#   XOR.py-A very simple neural network to do exclusive or.\n",
    "import numpy as np\n",
    "\n",
    "epochs = 60000           # Number of iterations\n",
    "inputLayerSize, hiddenLayerSize, outputLayerSize = 2, 3, 1\n",
    "\n",
    "X = np.array([[0,0], [0,1], [1,0], [1,1]])\n",
    "Y = np.array([ [0],   [1],   [1],   [0]])\n",
    "\n",
    "def sigmoid (x): return 1/(1 + np.exp(-x))      # activation function\n",
    "def sigmoid_(x): return x * (1 - x)             # derivative of sigmoid\n",
    "                                                # weights on layer inputs\n",
    "Wh = np.random.uniform(size=(inputLayerSize, hiddenLayerSize))\n",
    "Wz = np.random.uniform(size=(hiddenLayerSize,outputLayerSize))\n",
    "\n",
    "for i in range(epochs):\n",
    "\n",
    "    # forward prop\n",
    "    H = sigmoid(np.dot(X, Wh))                  # hidden layer results\n",
    "    Z = sigmoid(np.dot(H, Wz))                  # output layer results\n",
    "    # loss\n",
    "    E = Y - Z                                   # how much we missed (error)\n",
    "    # back prop\n",
    "    dZ = E * sigmoid_(Z)                        # delta Z\n",
    "    Wz +=  H.T.dot(dZ)                          # update output layer weights\n",
    "    dH = dZ.dot(Wz.T) * sigmoid_(H)             # delta H\n",
    "    Wh +=  X.T.dot(dH)                          # update hidden layer weights\n",
    "    \n",
    "print(Z)                # what have we learnt?"
   ]
  },
  {
   "cell_type": "code",
   "execution_count": 86,
   "metadata": {},
   "outputs": [
    {
     "name": "stdout",
     "output_type": "stream",
     "text": [
      "1 a\n",
      "2 b\n",
      "3 c\n"
     ]
    }
   ],
   "source": [
    "for n, c in zip([1,2,3], ['a', 'b', 'c']):\n",
    "    print(n,c)"
   ]
  },
  {
   "cell_type": "code",
   "execution_count": 116,
   "metadata": {},
   "outputs": [
    {
     "data": {
      "image/png": "[encoded data removed]",
      "text/plain": [
       "<matplotlib.figure.Figure at 0x89e0bb0>"
      ]
     },
     "metadata": {},
     "output_type": "display_data"
    }
   ],
   "source": [
    "plt.plot([1,2,3,4], [1,4,9,16])#, 'ro')\n",
    "plt.axis([0, 6, 0, 20])\n",
    "plt.show()"
   ]
  },
  {
   "cell_type": "code",
   "execution_count": 195,
   "metadata": {},
   "outputs": [
    {
     "data": {
      "image/png": "[encoded data removed]",
      "text/plain": [
       "<matplotlib.figure.Figure at 0xa436350>"
      ]
     },
     "metadata": {},
     "output_type": "display_data"
    }
   ],
   "source": [
    "sigma = 0.0001\n",
    "f = lambda x : 1/(1 + np.exp(-x))\n",
    "fmirp = lambda x: x * (1 - x) \n",
    "\n",
    "x = np.arange(-5, 5, step=0.1)\n",
    "plt.plot(x, f(x), 'b')\n",
    "#plt.plot(x, fprim(x), 'r')\n",
    "plt.plot(x, fmirp(f(x)), 'y')\n",
    "\n",
    "y = 0.99\n",
    "a = -6\n",
    "plt.plot([4.5], [y], 'ro')\n",
    "    \n",
    "learning_rate = 0.01\n",
    "for i in range(1000):\n",
    "    yhat = f(a)\n",
    "    e = yhat - y\n",
    "    #print(\"error e:\", e)\n",
    "    yhatprim = fmirp(yhat)\n",
    "    dx = 0.5\n",
    "    dy = dx * yhatprim\n",
    "    \n",
    "    if i % 10 == 0: \n",
    "        plt.plot([a], [yhat], 'go')\n",
    "        plt.plot([a-dx, a+dx], [yhat-dy, yhat+dy], 'black')\n",
    "        \n",
    "    a += - learning_rate * e / yhatprim\n",
    "    if (abs(e) < sigma):\n",
    "        break\n",
    "\n",
    "#plt.axis([-5, 5, -1, 1])\n",
    "plt.grid(True)\n",
    "plt.show()"
   ]
  },
  {
   "cell_type": "code",
   "execution_count": null,
   "metadata": {},
   "outputs": [],
   "source": []
  }
 ],
 "metadata": {
  "kernelspec": {
   "display_name": "Python 3",
   "language": "python",
   "name": "python3"
  },
  "language_info": {
   "codemirror_mode": {
    "name": "ipython",
    "version": 3
   },
   "file_extension": ".py",
   "mimetype": "text/x-python",
   "name": "python",
   "nbconvert_exporter": "python",
   "pygments_lexer": "ipython3",
   "version": "3.6.4"
  }
 },
 "nbformat": 4,
 "nbformat_minor": 2
}
